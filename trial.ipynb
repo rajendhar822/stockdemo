{
 "cells": [
  {
   "cell_type": "code",
   "execution_count": 8,
   "metadata": {},
   "outputs": [
    {
     "name": "stderr",
     "output_type": "stream",
     "text": [
      "INFO:     Started server process [18812]\n",
      "INFO:     Waiting for application startup.\n",
      "INFO:     Application startup complete.\n",
      "ERROR:    [Errno 10048] error while attempting to bind on address ('127.0.0.1', 5432): only one usage of each socket address (protocol/network address/port) is normally permitted\n",
      "INFO:     Waiting for application shutdown.\n",
      "INFO:     Application shutdown complete.\n"
     ]
    }
   ],
   "source": [
    "import random\n",
    "import asyncio\n",
    "from fastapi import FastAPI\n",
    "from fastapi.responses import JSONResponse\n",
    "from threading import Thread\n",
    "import nest_asyncio\n",
    "import uvicorn\n",
    "\n",
    "# Ensure FastAPI can run inside a Jupyter notebook\n",
    "nest_asyncio.apply()\n",
    "\n",
    "app = FastAPI()\n",
    "\n",
    "# Shared variable to store random data\n",
    "random_data = {\"value\": None}\n",
    "\n",
    "# Function to generate random data every second\n",
    "async def generate_random_data():\n",
    "    global random_data\n",
    "    while True:\n",
    "        random_data[\"value\"] = random.randint(1, 100)\n",
    "        await asyncio.sleep(1)  # Wait for 1 second before generating new data\n",
    "\n",
    "# Endpoint to get the latest random data\n",
    "@app.get(\"/random-data\")\n",
    "async def get_random_data():\n",
    "    return JSONResponse(content=random_data)\n",
    "\n",
    "# Run the FastAPI app in a separate thread\n",
    "def run_server():\n",
    "    config = uvicorn.Config(app, host=\"127.0.0.1\", port=5432, log_level=\"info\")\n",
    "    server = uvicorn.Server(config)\n",
    "    server.run()\n",
    "\n",
    "# Start the background task for generating random data\n",
    "loop = asyncio.get_event_loop()\n",
    "loop.create_task(generate_random_data())\n",
    "\n",
    "# Start the FastAPI server in a background thread\n",
    "server_thread = Thread(target=run_server, daemon=True)\n",
    "server_thread.start()\n"
   ]
  }
 ],
 "metadata": {
  "kernelspec": {
   "display_name": "env",
   "language": "python",
   "name": "python3"
  },
  "language_info": {
   "codemirror_mode": {
    "name": "ipython",
    "version": 3
   },
   "file_extension": ".py",
   "mimetype": "text/x-python",
   "name": "python",
   "nbconvert_exporter": "python",
   "pygments_lexer": "ipython3",
   "version": "3.12.3"
  }
 },
 "nbformat": 4,
 "nbformat_minor": 2
}
